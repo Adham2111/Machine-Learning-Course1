{
  "nbformat": 4,
  "nbformat_minor": 0,
  "metadata": {
    "colab": {
      "provenance": []
    },
    "kernelspec": {
      "name": "python3",
      "display_name": "Python 3"
    }
  },
  "cells": [
    {
      "cell_type": "markdown",
      "metadata": {
        "id": "p54eVSYQonJl"
      },
      "source": [
        "**Problem 1**"
      ]
    },
    {
      "cell_type": "markdown",
      "source": [
        "*   p = 6\n",
        "\n"
      ],
      "metadata": {
        "id": "SvLGUbaJhkSe"
      }
    },
    {
      "cell_type": "code",
      "metadata": {
        "id": "vkE6K2r5cb5e"
      },
      "source": [
        "import numpy as np"
      ],
      "execution_count": null,
      "outputs": []
    },
    {
      "cell_type": "code",
      "metadata": {
        "colab": {
          "base_uri": "https://localhost:8080/"
        },
        "id": "prPiNXKddDGK",
        "outputId": "f18495ff-3a7c-444a-d332-044dbdd8e4ac"
      },
      "source": [
        "x = np.array([1, 2, 5, 6])\n",
        "x"
      ],
      "execution_count": null,
      "outputs": [
        {
          "output_type": "execute_result",
          "data": {
            "text/plain": [
              "array([1, 2, 5, 6])"
            ]
          },
          "metadata": {},
          "execution_count": 4
        }
      ]
    },
    {
      "cell_type": "code",
      "metadata": {
        "colab": {
          "base_uri": "https://localhost:8080/"
        },
        "id": "pSr6jlQzdKJK",
        "outputId": "eb917b3c-88eb-4aa1-a489-114cceefd85c"
      },
      "source": [
        "x_tilda = np.concatenate((x.reshape(4,1), np.ones((4,1))), axis=1) # ~~> converting X into ~X (X tilda)\n",
        "# NB: axis=0 means concatenating rows, axis=1 means concatenating columns (default is 0)\n",
        "x_tilda"
      ],
      "execution_count": null,
      "outputs": [
        {
          "output_type": "execute_result",
          "data": {
            "text/plain": [
              "array([[1., 1.],\n",
              "       [2., 1.],\n",
              "       [5., 1.],\n",
              "       [6., 1.]])"
            ]
          },
          "metadata": {},
          "execution_count": 5
        }
      ]
    },
    {
      "cell_type": "code",
      "metadata": {
        "colab": {
          "base_uri": "https://localhost:8080/"
        },
        "id": "1F6Byxh9dLZS",
        "outputId": "26ac3b15-8589-4f36-efa2-81f3e9f2fade"
      },
      "source": [
        "targets = np.array([-1,-1,1,1]).reshape(4,1)\n",
        "targets"
      ],
      "execution_count": null,
      "outputs": [
        {
          "output_type": "execute_result",
          "data": {
            "text/plain": [
              "array([[-1],\n",
              "       [-1],\n",
              "       [ 1],\n",
              "       [ 1]])"
            ]
          },
          "metadata": {},
          "execution_count": 6
        }
      ]
    },
    {
      "cell_type": "code",
      "metadata": {
        "colab": {
          "base_uri": "https://localhost:8080/"
        },
        "id": "xXYtCM6DdLWb",
        "outputId": "b9d1a24c-aba9-4a7f-88bf-6c2d1a0917eb"
      },
      "source": [
        "w = np.linalg.inv(x_tilda.T @ x_tilda) @ x_tilda.T @ targets\n",
        "w\n",
        "# first element is w1 and second is w0 (w node)"
      ],
      "execution_count": null,
      "outputs": [
        {
          "output_type": "execute_result",
          "data": {
            "text/plain": [
              "array([[ 0.47058824],\n",
              "       [-1.64705882]])"
            ]
          },
          "metadata": {},
          "execution_count": 7
        }
      ]
    },
    {
      "cell_type": "markdown",
      "source": [
        "*   p = 20"
      ],
      "metadata": {
        "id": "8TQqvdiFhhTG"
      }
    },
    {
      "cell_type": "code",
      "source": [
        "x = np.array([1, 2, 5, 20])\n",
        "x"
      ],
      "metadata": {
        "colab": {
          "base_uri": "https://localhost:8080/"
        },
        "id": "P5GXG06WhjPj",
        "outputId": "645db863-68fa-491f-a075-641007c10b06"
      },
      "execution_count": null,
      "outputs": [
        {
          "output_type": "execute_result",
          "data": {
            "text/plain": [
              "array([ 1,  2,  5, 20])"
            ]
          },
          "metadata": {},
          "execution_count": 8
        }
      ]
    },
    {
      "cell_type": "code",
      "source": [
        "x_tilda = np.concatenate((x.reshape(4,1), np.ones((3,1))), axis=1) \n",
        "x_tilda"
      ],
      "metadata": {
        "colab": {
          "base_uri": "https://localhost:8080/",
          "height": 217
        },
        "id": "kq9BfvWWh1OM",
        "outputId": "d40758ca-2d03-4172-ebc7-4305cd901720"
      },
      "execution_count": null,
      "outputs": [
        {
          "output_type": "error",
          "ename": "ValueError",
          "evalue": "ignored",
          "traceback": [
            "\u001b[0;31m---------------------------------------------------------------------------\u001b[0m",
            "\u001b[0;31mValueError\u001b[0m                                Traceback (most recent call last)",
            "\u001b[0;32m<ipython-input-11-ac09d4f0dd73>\u001b[0m in \u001b[0;36m<module>\u001b[0;34m\u001b[0m\n\u001b[0;32m----> 1\u001b[0;31m \u001b[0mx_tilda\u001b[0m \u001b[0;34m=\u001b[0m \u001b[0mnp\u001b[0m\u001b[0;34m.\u001b[0m\u001b[0mconcatenate\u001b[0m\u001b[0;34m(\u001b[0m\u001b[0;34m(\u001b[0m\u001b[0mx\u001b[0m\u001b[0;34m.\u001b[0m\u001b[0mreshape\u001b[0m\u001b[0;34m(\u001b[0m\u001b[0;36m4\u001b[0m\u001b[0;34m,\u001b[0m\u001b[0;36m1\u001b[0m\u001b[0;34m)\u001b[0m\u001b[0;34m,\u001b[0m \u001b[0mnp\u001b[0m\u001b[0;34m.\u001b[0m\u001b[0mones\u001b[0m\u001b[0;34m(\u001b[0m\u001b[0;34m(\u001b[0m\u001b[0;36m3\u001b[0m\u001b[0;34m,\u001b[0m\u001b[0;36m1\u001b[0m\u001b[0;34m)\u001b[0m\u001b[0;34m)\u001b[0m\u001b[0;34m)\u001b[0m\u001b[0;34m,\u001b[0m \u001b[0maxis\u001b[0m\u001b[0;34m=\u001b[0m\u001b[0;36m1\u001b[0m\u001b[0;34m)\u001b[0m\u001b[0;34m\u001b[0m\u001b[0;34m\u001b[0m\u001b[0m\n\u001b[0m\u001b[1;32m      2\u001b[0m \u001b[0mx_tilda\u001b[0m\u001b[0;34m\u001b[0m\u001b[0;34m\u001b[0m\u001b[0m\n",
            "\u001b[0;32m<__array_function__ internals>\u001b[0m in \u001b[0;36mconcatenate\u001b[0;34m(*args, **kwargs)\u001b[0m\n",
            "\u001b[0;31mValueError\u001b[0m: all the input array dimensions for the concatenation axis must match exactly, but along dimension 0, the array at index 0 has size 4 and the array at index 1 has size 3"
          ]
        }
      ]
    },
    {
      "cell_type": "code",
      "source": [
        "targets = np.array([-1,-1,1,1]).reshape(4,1)\n",
        "targets"
      ],
      "metadata": {
        "id": "VFhQlB4Th5bO"
      },
      "execution_count": null,
      "outputs": []
    },
    {
      "cell_type": "code",
      "source": [
        "w = np.linalg.inv(x_tilda.T @ x_tilda) @ x_tilda.T @ targets\n",
        "w"
      ],
      "metadata": {
        "id": "rVRtULbbh7kO"
      },
      "execution_count": null,
      "outputs": []
    },
    {
      "cell_type": "markdown",
      "metadata": {
        "id": "f9asOXZporDs"
      },
      "source": [
        "**Problem 2**"
      ]
    },
    {
      "cell_type": "code",
      "metadata": {
        "id": "PcOiosWMdLTY"
      },
      "source": [
        "x2 = np.array([[1,1],[5,-5],[-1,-1],[-5,5]])\n",
        "x2"
      ],
      "execution_count": null,
      "outputs": []
    },
    {
      "cell_type": "code",
      "metadata": {
        "id": "AZj11N_ndLQb"
      },
      "source": [
        "x2.shape"
      ],
      "execution_count": null,
      "outputs": []
    },
    {
      "cell_type": "code",
      "metadata": {
        "id": "kVdoqn-ndLNp"
      },
      "source": [
        "x2_tilda = np.concatenate((x2, np.ones((4,1))), axis=1) \n",
        "x2_tilda"
      ],
      "execution_count": null,
      "outputs": []
    },
    {
      "cell_type": "code",
      "metadata": {
        "id": "_p8IuU0CdLH5"
      },
      "source": [
        "targets2 = np.array([1,-1,1,-1]).reshape(4,1)\n",
        "targets2"
      ],
      "execution_count": null,
      "outputs": []
    },
    {
      "cell_type": "code",
      "metadata": {
        "id": "PJvSti7hdK-R"
      },
      "source": [
        "w2 = np.linalg.inv(x2_tilda.T @ x2_tilda) @ x2_tilda.T @ targets2\n",
        "w2\n",
        "# result of zero means that there exists no solution to this problem"
      ],
      "execution_count": null,
      "outputs": []
    }
  ]
}