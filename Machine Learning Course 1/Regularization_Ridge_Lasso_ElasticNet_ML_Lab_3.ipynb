{
  "cells": [
    {
      "cell_type": "markdown",
      "metadata": {
        "id": "SaRaZ2Wlc16K"
      },
      "source": [
        "## Imports"
      ]
    },
    {
      "cell_type": "code",
      "execution_count": null,
      "metadata": {
        "id": "qFEU1gmWc16K"
      },
      "outputs": [],
      "source": [
        "import numpy as np\n",
        "import pandas as pd\n",
        "import matplotlib.pyplot as plt\n",
        "import seaborn as sns"
      ]
    },
    {
      "cell_type": "markdown",
      "metadata": {
        "id": "J2VyF_vUc16L"
      },
      "source": [
        "## Data and Setup"
      ]
    },
    {
      "cell_type": "code",
      "execution_count": null,
      "metadata": {
        "id": "No2zuEa4c16M"
      },
      "outputs": [],
      "source": [
        "df = pd.read_csv(\"Advertising.csv\")\n",
        "X = df.drop('sales',axis=1)\n",
        "y = df['sales']"
      ]
    },
    {
      "cell_type": "markdown",
      "metadata": {
        "id": "1_ZIyhFBc16M"
      },
      "source": [
        "### Polynomial Conversion"
      ]
    },
    {
      "cell_type": "code",
      "execution_count": null,
      "metadata": {
        "id": "DpAeYXhec16M"
      },
      "outputs": [],
      "source": [
        "from sklearn.preprocessing import PolynomialFeatures"
      ]
    },
    {
      "cell_type": "code",
      "execution_count": null,
      "metadata": {
        "id": "IAUlR0cEc16N"
      },
      "outputs": [],
      "source": [
        "polynomial_converter = PolynomialFeatures(degree=3,include_bias=False)"
      ]
    },
    {
      "cell_type": "code",
      "execution_count": null,
      "metadata": {
        "id": "KJ0YfqyWc16N"
      },
      "outputs": [],
      "source": [
        "poly_features = polynomial_converter.fit_transform(X)"
      ]
    },
    {
      "cell_type": "markdown",
      "metadata": {
        "id": "mZKbKdu3c16O"
      },
      "source": [
        "### Train | Test Split"
      ]
    },
    {
      "cell_type": "code",
      "execution_count": null,
      "metadata": {
        "id": "ZwqP9YOsc16O"
      },
      "outputs": [],
      "source": [
        "from sklearn.model_selection import train_test_split"
      ]
    },
    {
      "cell_type": "code",
      "execution_count": null,
      "metadata": {
        "id": "yKK5XAecc16O"
      },
      "outputs": [],
      "source": [
        "X_train, X_test, y_train, y_test = train_test_split(poly_features, y, test_size=0.3, random_state=101)"
      ]
    },
    {
      "cell_type": "markdown",
      "metadata": {
        "id": "KvyJf7FQc16O"
      },
      "source": [
        "\n",
        "\n",
        "## Scaling the Data"
      ]
    },
    {
      "cell_type": "code",
      "execution_count": null,
      "metadata": {
        "id": "v4VPUxksc16P"
      },
      "outputs": [],
      "source": [
        "from sklearn.preprocessing import StandardScaler"
      ]
    },
    {
      "cell_type": "code",
      "execution_count": null,
      "metadata": {
        "id": "P5oCGlnac16P"
      },
      "outputs": [],
      "source": [
        "scaler = StandardScaler()"
      ]
    },
    {
      "cell_type": "code",
      "execution_count": null,
      "metadata": {
        "id": "kOjNVVRdc16P"
      },
      "outputs": [],
      "source": [
        "scaler.fit(X_train)"
      ]
    },
    {
      "cell_type": "code",
      "execution_count": null,
      "metadata": {
        "id": "p2F_Ydu1c16Q"
      },
      "outputs": [],
      "source": [
        "X_train = scaler.transform(X_train)"
      ]
    },
    {
      "cell_type": "code",
      "execution_count": null,
      "metadata": {
        "id": "CITF8taZc16Q"
      },
      "outputs": [],
      "source": [
        "X_test = scaler.transform(X_test)"
      ]
    },
    {
      "cell_type": "markdown",
      "metadata": {
        "id": "QAgJBaMJc16Q"
      },
      "source": [
        "-----\n",
        "\n",
        "## RidgeCV Regression\n"
      ]
    },
    {
      "cell_type": "code",
      "execution_count": null,
      "metadata": {
        "id": "rXLvictqc16R"
      },
      "outputs": [],
      "source": [
        "from sklearn.linear_model import RidgeCV"
      ]
    },
    {
      "cell_type": "code",
      "execution_count": null,
      "metadata": {
        "id": "jjsmKTVQc16R"
      },
      "outputs": [],
      "source": [
        "ridge_cv_model = RidgeCV(alphas=(0.1, 1.0, 10.0),scoring='neg_mean_absolute_error')"
      ]
    },
    {
      "cell_type": "code",
      "execution_count": null,
      "metadata": {
        "id": "I9WmSquCc16R",
        "colab": {
          "base_uri": "https://localhost:8080/"
        },
        "outputId": "c9e65108-3e47-4b2c-cf1c-d8aeb188e81a"
      },
      "outputs": [
        {
          "output_type": "execute_result",
          "data": {
            "text/plain": [
              "RidgeCV(alphas=array([ 0.1,  1. , 10. ]), scoring='neg_mean_absolute_error')"
            ]
          },
          "metadata": {},
          "execution_count": 15
        }
      ],
      "source": [
        "ridge_cv_model.fit(X_train,y_train)"
      ]
    },
    {
      "cell_type": "code",
      "source": [
        "ridge_cv_model.coef_"
      ],
      "metadata": {
        "id": "pBJjweOT4odD",
        "colab": {
          "base_uri": "https://localhost:8080/"
        },
        "outputId": "fca3af81-99e0-48e7-f846-2585e058790b"
      },
      "execution_count": null,
      "outputs": [
        {
          "output_type": "execute_result",
          "data": {
            "text/plain": [
              "array([ 5.40769392,  0.5885865 ,  0.40390395, -6.18263924,  4.59607939,\n",
              "       -1.18789654, -1.15200458,  0.57837796, -0.1261586 ,  2.5569777 ,\n",
              "       -1.38900471,  0.86059434,  0.72219553, -0.26129256,  0.17870787,\n",
              "        0.44353612, -0.21362436, -0.04622473, -0.06441449])"
            ]
          },
          "metadata": {},
          "execution_count": 20
        }
      ]
    },
    {
      "cell_type": "code",
      "execution_count": null,
      "metadata": {
        "id": "IN0v17pOc16R"
      },
      "outputs": [],
      "source": [
        "test_predictions = ridge_cv_model.predict(X_test)"
      ]
    },
    {
      "cell_type": "code",
      "execution_count": null,
      "metadata": {
        "id": "EWuNgTJec16R"
      },
      "outputs": [],
      "source": [
        "from sklearn.metrics import mean_absolute_error,mean_squared_error"
      ]
    },
    {
      "cell_type": "code",
      "execution_count": null,
      "metadata": {
        "id": "siWNIgaxc16R"
      },
      "outputs": [],
      "source": [
        "MSE = mean_squared_error(y_test,test_predictions)\n",
        "RMSE = np.sqrt(MSE)"
      ]
    },
    {
      "cell_type": "code",
      "execution_count": null,
      "metadata": {
        "id": "ctRpKSnrc16S",
        "colab": {
          "base_uri": "https://localhost:8080/"
        },
        "outputId": "cd0676bf-3b45-4212-b3ec-d9e93a6e1563"
      },
      "outputs": [
        {
          "output_type": "execute_result",
          "data": {
            "text/plain": [
              "0.6180719926946004"
            ]
          },
          "metadata": {},
          "execution_count": 19
        }
      ],
      "source": [
        "RMSE"
      ]
    },
    {
      "cell_type": "markdown",
      "metadata": {
        "id": "4jBmxqToc16U"
      },
      "source": [
        "\n",
        "-----\n",
        "\n",
        "## LassoCV Regression"
      ]
    },
    {
      "cell_type": "code",
      "execution_count": null,
      "metadata": {
        "id": "bL8oxXRbc16U"
      },
      "outputs": [],
      "source": [
        "from sklearn.linear_model import LassoCV"
      ]
    },
    {
      "cell_type": "code",
      "execution_count": null,
      "metadata": {
        "id": "NMBkv9mtc16V"
      },
      "outputs": [],
      "source": [
        "lasso_cv_model = LassoCV(eps=0.1,n_alphas=100,cv=5)"
      ]
    },
    {
      "cell_type": "code",
      "execution_count": null,
      "metadata": {
        "id": "nQvBdgPAc16V",
        "outputId": "5f2c2e16-ba1f-450c-d852-64a2ba20a2bd"
      },
      "outputs": [
        {
          "data": {
            "text/plain": [
              "LassoCV(cv=5, eps=0.1)"
            ]
          },
          "execution_count": 40,
          "metadata": {},
          "output_type": "execute_result"
        }
      ],
      "source": [
        "lasso_cv_model.fit(X_train,y_train)"
      ]
    },
    {
      "cell_type": "code",
      "execution_count": null,
      "metadata": {
        "id": "-NO1kY05c16W",
        "outputId": "de0e4826-0e33-4162-e0a6-8c4db3ec76ba"
      },
      "outputs": [
        {
          "data": {
            "text/plain": [
              "array([1.002651  , 0.        , 0.        , 0.        , 3.79745279,\n",
              "       0.        , 0.        , 0.        , 0.        , 0.        ,\n",
              "       0.        , 0.        , 0.        , 0.        , 0.        ,\n",
              "       0.        , 0.        , 0.        , 0.        ])"
            ]
          },
          "execution_count": 47,
          "metadata": {},
          "output_type": "execute_result"
        }
      ],
      "source": [
        "lasso_cv_model.coef_"
      ]
    },
    {
      "cell_type": "code",
      "execution_count": null,
      "metadata": {
        "id": "i-5oJlaBc16V"
      },
      "outputs": [],
      "source": [
        "test_predictions = lasso_cv_model.predict(X_test)"
      ]
    },
    {
      "cell_type": "code",
      "execution_count": null,
      "metadata": {
        "id": "EYT4_3wXc16V"
      },
      "outputs": [],
      "source": [
        "MSE = mean_squared_error(y_test,test_predictions)\n",
        "RMSE = np.sqrt(MSE)"
      ]
    },
    {
      "cell_type": "code",
      "execution_count": null,
      "metadata": {
        "id": "mRC42JQkc16V",
        "outputId": "295becbc-7da9-46df-fd83-e25bc991db7c"
      },
      "outputs": [
        {
          "data": {
            "text/plain": [
              "1.1308001022762548"
            ]
          },
          "execution_count": 45,
          "metadata": {},
          "output_type": "execute_result"
        }
      ],
      "source": [
        "RMSE"
      ]
    },
    {
      "cell_type": "markdown",
      "metadata": {
        "id": "DHKoTjFOc16W"
      },
      "source": [
        "-----\n",
        "\n",
        "## Elastic Net\n",
        "\n",
        "Elastic Net combines the penalties of ridge regression and lasso in an attempt to get the best of both worlds!"
      ]
    },
    {
      "cell_type": "code",
      "execution_count": null,
      "metadata": {
        "id": "2niK676gc16W"
      },
      "outputs": [],
      "source": [
        "from sklearn.linear_model import ElasticNetCV"
      ]
    },
    {
      "cell_type": "code",
      "execution_count": null,
      "metadata": {
        "id": "Bjr9XdCic16W"
      },
      "outputs": [],
      "source": [
        "elastic_model = ElasticNetCV(l1_ratio=[.1, .5, .7,.9, .95, .99, 1],tol=0.01)"
      ]
    },
    {
      "cell_type": "code",
      "execution_count": null,
      "metadata": {
        "id": "MD1OE2Fhc16W",
        "outputId": "1ea95895-cece-46ce-a2db-c3dd8ace59b5"
      },
      "outputs": [
        {
          "data": {
            "text/plain": [
              "ElasticNetCV(l1_ratio=[0.1, 0.5, 0.7, 0.9, 0.95, 0.99, 1], tol=0.01)"
            ]
          },
          "execution_count": 52,
          "metadata": {},
          "output_type": "execute_result"
        }
      ],
      "source": [
        "elastic_model.fit(X_train,y_train)"
      ]
    },
    {
      "cell_type": "code",
      "execution_count": null,
      "metadata": {
        "id": "DkA3qchOc16X",
        "outputId": "db655dfb-ba11-4b55-cb24-b32003f946a6"
      },
      "outputs": [
        {
          "data": {
            "text/plain": [
              "array([ 3.78993643,  0.89232919,  0.28765395, -1.01843566,  2.15516144,\n",
              "       -0.3567547 , -0.271502  ,  0.09741081,  0.        , -1.05563151,\n",
              "        0.2362506 ,  0.07980911,  1.26170778,  0.01464706,  0.00462336,\n",
              "       -0.39986069,  0.        ,  0.        , -0.05343757])"
            ]
          },
          "execution_count": 61,
          "metadata": {},
          "output_type": "execute_result"
        }
      ],
      "source": [
        "elastic_model.coef_"
      ]
    },
    {
      "cell_type": "code",
      "execution_count": null,
      "metadata": {
        "id": "QafGNwiuc16W"
      },
      "outputs": [],
      "source": [
        "test_predictions = elastic_model.predict(X_test)"
      ]
    },
    {
      "cell_type": "code",
      "execution_count": null,
      "metadata": {
        "id": "smVSkyWoc16X"
      },
      "outputs": [],
      "source": [
        "MSE = mean_squared_error(y_test,test_predictions)\n",
        "RMSE = np.sqrt(MSE)"
      ]
    },
    {
      "cell_type": "code",
      "execution_count": null,
      "metadata": {
        "id": "Km-Ovx0Vc16X",
        "outputId": "d19c7200-7213-418e-e7d1-727a6c47c52f"
      },
      "outputs": [
        {
          "data": {
            "text/plain": [
              "0.7485546215633726"
            ]
          },
          "execution_count": 59,
          "metadata": {},
          "output_type": "execute_result"
        }
      ],
      "source": [
        "RMSE"
      ]
    },
    {
      "cell_type": "markdown",
      "metadata": {
        "id": "EB0pc_TQc16X"
      },
      "source": [
        "-----\n",
        "---"
      ]
    }
  ],
  "metadata": {
    "anaconda-cloud": {},
    "kernelspec": {
      "display_name": "Python 3",
      "language": "python",
      "name": "python3"
    },
    "language_info": {
      "codemirror_mode": {
        "name": "ipython",
        "version": 3
      },
      "file_extension": ".py",
      "mimetype": "text/x-python",
      "name": "python",
      "nbconvert_exporter": "python",
      "pygments_lexer": "ipython3",
      "version": "3.7.6"
    },
    "colab": {
      "provenance": []
    }
  },
  "nbformat": 4,
  "nbformat_minor": 0
}