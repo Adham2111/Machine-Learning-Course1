{
  "nbformat": 4,
  "nbformat_minor": 0,
  "metadata": {
    "colab": {
      "provenance": []
    },
    "kernelspec": {
      "name": "python3",
      "display_name": "Python 3"
    }
  },
  "cells": [
    {
      "cell_type": "markdown",
      "metadata": {
        "id": "nX68Xw7sL_cW"
      },
      "source": [
        "Problem 1"
      ]
    },
    {
      "cell_type": "code",
      "metadata": {
        "id": "cntjZLHcA_w8"
      },
      "source": [
        "# Import numpy and matplotlib ONLY\n",
        "import numpy as np\n",
        "import matplotlib.pyplot as plt\n",
        "%matplotlib inline"
      ],
      "execution_count": null,
      "outputs": []
    },
    {
      "cell_type": "code",
      "metadata": {
        "colab": {
          "base_uri": "https://localhost:8080/"
        },
        "id": "hCp_4gmABkqu",
        "outputId": "915eee6d-551c-4af9-f205-1ea9ca8bd288"
      },
      "source": [
        "x = np.array([[2, 3], [4,1], [-4,-1], [-1,-3]])\n",
        "x"
      ],
      "execution_count": null,
      "outputs": [
        {
          "output_type": "execute_result",
          "data": {
            "text/plain": [
              "array([[ 2,  3],\n",
              "       [ 4,  1],\n",
              "       [-4, -1],\n",
              "       [-1, -3]])"
            ]
          },
          "metadata": {},
          "execution_count": 2
        }
      ]
    },
    {
      "cell_type": "code",
      "metadata": {
        "colab": {
          "base_uri": "https://localhost:8080/"
        },
        "id": "sWKX8pLJIo_B",
        "outputId": "f7e481d7-1baa-4fdf-cd7e-da833e673965"
      },
      "source": [
        "m1 = x[:2].mean(axis=0)\n",
        "m1"
      ],
      "execution_count": null,
      "outputs": [
        {
          "output_type": "execute_result",
          "data": {
            "text/plain": [
              "array([3., 2.])"
            ]
          },
          "metadata": {},
          "execution_count": 3
        }
      ]
    },
    {
      "cell_type": "code",
      "metadata": {
        "colab": {
          "base_uri": "https://localhost:8080/"
        },
        "id": "cxzkRuycI38y",
        "outputId": "2921ef69-c472-447a-ec5c-1397826fcd17"
      },
      "source": [
        "m2 = x[-2:].mean(axis=0)\n",
        "m2"
      ],
      "execution_count": null,
      "outputs": [
        {
          "output_type": "execute_result",
          "data": {
            "text/plain": [
              "array([-2.5, -2. ])"
            ]
          },
          "metadata": {},
          "execution_count": 4
        }
      ]
    },
    {
      "cell_type": "code",
      "metadata": {
        "id": "TxIU7jUpI36P",
        "colab": {
          "base_uri": "https://localhost:8080/"
        },
        "outputId": "27665fa2-70bd-46cf-d410-3e2523d7f30d"
      },
      "source": [
        "x[0] @ x[0].T # ~~> this gives \"13\" as a scalar value, but we want a result matrix\n",
        "x[0].reshape(2,1) @ x[0].reshape(1,2) # then will need to subtract the mean from every value \n",
        "(x[0]-m1).reshape(2,1) @ (x[0]-m1).reshape(1,2) # this covers 1st point, need to add the values for point 2 as well"
      ],
      "execution_count": null,
      "outputs": [
        {
          "output_type": "execute_result",
          "data": {
            "text/plain": [
              "array([[ 1., -1.],\n",
              "       [-1.,  1.]])"
            ]
          },
          "metadata": {},
          "execution_count": 6
        }
      ]
    },
    {
      "cell_type": "code",
      "metadata": {
        "colab": {
          "base_uri": "https://localhost:8080/"
        },
        "id": "r1EmctiFI33u",
        "outputId": "4758b275-6b68-478b-ef27-d44c9c64ad9b"
      },
      "source": [
        "s1 = (x[0]-m1).reshape(2,1) @ (x[0]-m1).reshape(1,2) + (x[1]-m1).reshape(2,1) @ (x[1]-m1).reshape(1,2)\n",
        "s1"
      ],
      "execution_count": null,
      "outputs": [
        {
          "output_type": "execute_result",
          "data": {
            "text/plain": [
              "array([[ 2., -2.],\n",
              "       [-2.,  2.]])"
            ]
          },
          "metadata": {},
          "execution_count": 7
        }
      ]
    },
    {
      "cell_type": "code",
      "metadata": {
        "colab": {
          "base_uri": "https://localhost:8080/"
        },
        "id": "Z7wzbBBPKybM",
        "outputId": "576583f2-1a00-44db-b754-cb197c234a3e"
      },
      "source": [
        "s2 = (x[2]-m2).reshape(2,1) @ (x[2]-m2).reshape(1,2) + (x[3]-m2).reshape(2,1) @ (x[3]-m2).reshape(1,2)\n",
        "s2"
      ],
      "execution_count": null,
      "outputs": [
        {
          "output_type": "execute_result",
          "data": {
            "text/plain": [
              "array([[ 4.5, -3. ],\n",
              "       [-3. ,  2. ]])"
            ]
          },
          "metadata": {},
          "execution_count": 8
        }
      ]
    },
    {
      "cell_type": "code",
      "metadata": {
        "colab": {
          "base_uri": "https://localhost:8080/"
        },
        "id": "RUXE4KVcLd20",
        "outputId": "a580b04e-4ce0-45a6-98ae-21d8a1c3dc3d"
      },
      "source": [
        "sw = s1+s2\n",
        "sw"
      ],
      "execution_count": null,
      "outputs": [
        {
          "output_type": "execute_result",
          "data": {
            "text/plain": [
              "array([[ 6.5, -5. ],\n",
              "       [-5. ,  4. ]])"
            ]
          },
          "metadata": {},
          "execution_count": 9
        }
      ]
    },
    {
      "cell_type": "code",
      "metadata": {
        "colab": {
          "base_uri": "https://localhost:8080/"
        },
        "id": "y1NnDTKZKy2c",
        "outputId": "f74d51ed-5cc0-4802-a842-d936f853320f"
      },
      "source": [
        "sw_inv = np.linalg.inv(sw)\n",
        "sw_inv"
      ],
      "execution_count": null,
      "outputs": [
        {
          "output_type": "execute_result",
          "data": {
            "text/plain": [
              "array([[4. , 5. ],\n",
              "       [5. , 6.5]])"
            ]
          },
          "metadata": {},
          "execution_count": 10
        }
      ]
    },
    {
      "cell_type": "code",
      "metadata": {
        "colab": {
          "base_uri": "https://localhost:8080/"
        },
        "id": "XcEZ7MNnKyuF",
        "outputId": "ff0c5f8e-0db3-4a3c-a298-fd309cdd9630"
      },
      "source": [
        "w = sw_inv @ (m1-m2)\n",
        "w"
      ],
      "execution_count": null,
      "outputs": [
        {
          "output_type": "execute_result",
          "data": {
            "text/plain": [
              "array([42. , 53.5])"
            ]
          },
          "metadata": {},
          "execution_count": 11
        }
      ]
    },
    {
      "cell_type": "code",
      "metadata": {
        "colab": {
          "base_uri": "https://localhost:8080/"
        },
        "id": "a0L2rZBEKyK9",
        "outputId": "5263b99d-2272-4327-ed8e-cc0484fdfc9d"
      },
      "source": [
        "#In the problem, we are asked to multiply the value of w by a constant k=0.1\n",
        "w = 0.1 * (sw_inv @ (m1-m2))\n",
        "w # would then get w0 but in this example it is equal to 0 because the boundary is passing by the origin"
      ],
      "execution_count": null,
      "outputs": [
        {
          "output_type": "execute_result",
          "data": {
            "text/plain": [
              "array([4.2 , 5.35])"
            ]
          },
          "metadata": {},
          "execution_count": 12
        }
      ]
    },
    {
      "cell_type": "markdown",
      "metadata": {
        "id": "JC_DV_50NFoA"
      },
      "source": [
        "Problem 3"
      ]
    },
    {
      "cell_type": "code",
      "metadata": {
        "colab": {
          "base_uri": "https://localhost:8080/"
        },
        "id": "DsSoTYV6KxnN",
        "outputId": "c1ae57e6-05ae-439b-eed7-c6fcc96bf7de"
      },
      "source": [
        "x = np.array([[7, 8], [9,6], [1,4], [4,2]])\n",
        "x"
      ],
      "execution_count": null,
      "outputs": [
        {
          "output_type": "execute_result",
          "data": {
            "text/plain": [
              "array([[7, 8],\n",
              "       [9, 6],\n",
              "       [1, 4],\n",
              "       [4, 2]])"
            ]
          },
          "metadata": {},
          "execution_count": 13
        }
      ]
    },
    {
      "cell_type": "code",
      "metadata": {
        "colab": {
          "base_uri": "https://localhost:8080/"
        },
        "id": "V5YaH6IQKxkM",
        "outputId": "86e635e3-11c5-492e-b6fd-d911ae242ac2"
      },
      "source": [
        "m1 = x[:2].mean(axis=0)\n",
        "m1"
      ],
      "execution_count": null,
      "outputs": [
        {
          "output_type": "execute_result",
          "data": {
            "text/plain": [
              "array([8., 7.])"
            ]
          },
          "metadata": {},
          "execution_count": 14
        }
      ]
    },
    {
      "cell_type": "code",
      "metadata": {
        "colab": {
          "base_uri": "https://localhost:8080/"
        },
        "id": "5pq0FmYgR8M7",
        "outputId": "35120992-9a04-4698-fcee-4d6a14af6a01"
      },
      "source": [
        "m2 = x[-2:].mean(axis=0)\n",
        "m2"
      ],
      "execution_count": null,
      "outputs": [
        {
          "output_type": "execute_result",
          "data": {
            "text/plain": [
              "array([2.5, 3. ])"
            ]
          },
          "metadata": {},
          "execution_count": 15
        }
      ]
    },
    {
      "cell_type": "code",
      "metadata": {
        "colab": {
          "base_uri": "https://localhost:8080/"
        },
        "id": "4ps7xALGR8bz",
        "outputId": "1e90e4cf-2cef-4d21-f099-071a59bf6e47"
      },
      "source": [
        "s1 = (x[0]-m1).reshape(2,1) @ (x[0]-m1).reshape(1,2) + (x[1]-m1).reshape(2,1) @ (x[1]-m1).reshape(1,2)\n",
        "s1"
      ],
      "execution_count": null,
      "outputs": [
        {
          "output_type": "execute_result",
          "data": {
            "text/plain": [
              "array([[ 2., -2.],\n",
              "       [-2.,  2.]])"
            ]
          },
          "metadata": {},
          "execution_count": 16
        }
      ]
    },
    {
      "cell_type": "code",
      "metadata": {
        "colab": {
          "base_uri": "https://localhost:8080/"
        },
        "id": "UG8nT560R8rL",
        "outputId": "f21923b6-fe52-411c-ab80-1406d35affbe"
      },
      "source": [
        "s2 = (x[2]-m2).reshape(2,1) @ (x[2]-m2).reshape(1,2) + (x[3]-m2).reshape(2,1) @ (x[3]-m2).reshape(1,2)\n",
        "s2"
      ],
      "execution_count": null,
      "outputs": [
        {
          "output_type": "execute_result",
          "data": {
            "text/plain": [
              "array([[ 4.5, -3. ],\n",
              "       [-3. ,  2. ]])"
            ]
          },
          "metadata": {},
          "execution_count": 17
        }
      ]
    },
    {
      "cell_type": "code",
      "metadata": {
        "colab": {
          "base_uri": "https://localhost:8080/"
        },
        "id": "ERA5Nwx7R8z6",
        "outputId": "8e7d700d-001b-4f35-9afe-a97cea78e25d"
      },
      "source": [
        "sw = s1+s2\n",
        "sw"
      ],
      "execution_count": null,
      "outputs": [
        {
          "output_type": "execute_result",
          "data": {
            "text/plain": [
              "array([[ 6.5, -5. ],\n",
              "       [-5. ,  4. ]])"
            ]
          },
          "metadata": {},
          "execution_count": 18
        }
      ]
    },
    {
      "cell_type": "code",
      "metadata": {
        "colab": {
          "base_uri": "https://localhost:8080/"
        },
        "id": "yjTgg9ZLR8em",
        "outputId": "e8dddf8f-2590-4d76-9490-45dc1c056397"
      },
      "source": [
        "sw_inv = np.linalg.inv(sw)\n",
        "sw_inv"
      ],
      "execution_count": null,
      "outputs": [
        {
          "output_type": "execute_result",
          "data": {
            "text/plain": [
              "array([[4. , 5. ],\n",
              "       [5. , 6.5]])"
            ]
          },
          "metadata": {},
          "execution_count": 19
        }
      ]
    },
    {
      "cell_type": "code",
      "metadata": {
        "colab": {
          "base_uri": "https://localhost:8080/"
        },
        "id": "9y95dxidR8UT",
        "outputId": "0fac66ec-b411-41d7-fe9e-8a069bf67df3"
      },
      "source": [
        "w = 0.1 * sw_inv @ (m1-m2)\n",
        "w"
      ],
      "execution_count": null,
      "outputs": [
        {
          "output_type": "execute_result",
          "data": {
            "text/plain": [
              "array([4.2 , 5.35])"
            ]
          },
          "metadata": {},
          "execution_count": 20
        }
      ]
    },
    {
      "cell_type": "code",
      "metadata": {
        "colab": {
          "base_uri": "https://localhost:8080/"
        },
        "id": "PXlRXEYTR8E0",
        "outputId": "4db7f48c-73d6-471b-91d4-b0b553d56338"
      },
      "source": [
        "mid_point = (m1+m2)/2\n",
        "w0 = -1 * (w.T @ mid_point)\n",
        "w0\n",
        "#Thus the weight vector = [42, 53.5, -488]"
      ],
      "execution_count": null,
      "outputs": [
        {
          "output_type": "execute_result",
          "data": {
            "text/plain": [
              "-48.800000000000026"
            ]
          },
          "metadata": {},
          "execution_count": 21
        }
      ]
    },
    {
      "cell_type": "markdown",
      "metadata": {
        "id": "F7_tRwtycXha"
      },
      "source": [
        "Problem 4"
      ]
    },
    {
      "cell_type": "code",
      "metadata": {
        "id": "e8hLJIzTcZxC"
      },
      "source": [
        "wa = np.array([-1,1])"
      ],
      "execution_count": null,
      "outputs": []
    },
    {
      "cell_type": "code",
      "metadata": {
        "id": "OTGgK9UNecGg"
      },
      "source": [
        "wb = np.array([1,1])"
      ],
      "execution_count": null,
      "outputs": []
    },
    {
      "cell_type": "code",
      "metadata": {
        "colab": {
          "base_uri": "https://localhost:8080/"
        },
        "id": "ljs-P-uqch26",
        "outputId": "3c9af159-171d-464d-97cd-3e6039e6956b"
      },
      "source": [
        "c1 = np.array([[1,4],[2,3],[3,2]])\n",
        "c1"
      ],
      "execution_count": null,
      "outputs": [
        {
          "output_type": "execute_result",
          "data": {
            "text/plain": [
              "array([[1, 4],\n",
              "       [2, 3],\n",
              "       [3, 2]])"
            ]
          },
          "metadata": {},
          "execution_count": 24
        }
      ]
    },
    {
      "cell_type": "code",
      "metadata": {
        "colab": {
          "base_uri": "https://localhost:8080/"
        },
        "id": "kpASKPyych7k",
        "outputId": "3789b657-a007-4b0a-a53c-3b4f5ffd0fba"
      },
      "source": [
        "c2 = np.array([[2,5],[3,4],[4,3]])\n",
        "c2"
      ],
      "execution_count": null,
      "outputs": [
        {
          "output_type": "execute_result",
          "data": {
            "text/plain": [
              "array([[2, 5],\n",
              "       [3, 4],\n",
              "       [4, 3]])"
            ]
          },
          "metadata": {},
          "execution_count": 25
        }
      ]
    },
    {
      "cell_type": "code",
      "metadata": {
        "colab": {
          "base_uri": "https://localhost:8080/"
        },
        "id": "OBs0A8cgchuy",
        "outputId": "41ddf9ec-87dc-4d86-a054-6c5574162f4e"
      },
      "source": [
        "m1 = c1.mean(axis=0)\n",
        "m1"
      ],
      "execution_count": null,
      "outputs": [
        {
          "output_type": "execute_result",
          "data": {
            "text/plain": [
              "array([2., 3.])"
            ]
          },
          "metadata": {},
          "execution_count": 26
        }
      ]
    },
    {
      "cell_type": "code",
      "metadata": {
        "colab": {
          "base_uri": "https://localhost:8080/"
        },
        "id": "wEgQxUW1dAgb",
        "outputId": "83e5dcb9-84d9-49c8-cb47-282f1230cdae"
      },
      "source": [
        "m2 = c2.mean(axis=0)\n",
        "m2"
      ],
      "execution_count": null,
      "outputs": [
        {
          "output_type": "execute_result",
          "data": {
            "text/plain": [
              "array([3., 4.])"
            ]
          },
          "metadata": {},
          "execution_count": 27
        }
      ]
    },
    {
      "cell_type": "code",
      "metadata": {
        "colab": {
          "base_uri": "https://localhost:8080/"
        },
        "id": "Wf09i14odAkw",
        "outputId": "fd64fc6d-3d8a-4aef-8d59-d008972b205b"
      },
      "source": [
        "# trying for wa\n",
        "wa @ m1 # projected mean = dot product"
      ],
      "execution_count": null,
      "outputs": [
        {
          "output_type": "execute_result",
          "data": {
            "text/plain": [
              "1.0"
            ]
          },
          "metadata": {},
          "execution_count": 28
        }
      ]
    },
    {
      "cell_type": "code",
      "metadata": {
        "colab": {
          "base_uri": "https://localhost:8080/"
        },
        "id": "N0X-QXerdAbh",
        "outputId": "f64801d0-d3f1-4ad9-e8b8-481ad4d80293"
      },
      "source": [
        "wa @ m2 # subtracting proj mean of m1 and m2 = 0, making J(w)=0 which is bad\n",
        "#we need to maximize the distance between means NOT make it 0"
      ],
      "execution_count": null,
      "outputs": [
        {
          "output_type": "execute_result",
          "data": {
            "text/plain": [
              "1.0"
            ]
          },
          "metadata": {},
          "execution_count": 29
        }
      ]
    },
    {
      "cell_type": "code",
      "metadata": {
        "colab": {
          "base_uri": "https://localhost:8080/"
        },
        "id": "I0UohXzTeUfk",
        "outputId": "318660ed-177a-4359-9e40-a71b228865df"
      },
      "source": [
        "# trying for wb\n",
        "wb @ m1"
      ],
      "execution_count": null,
      "outputs": [
        {
          "output_type": "execute_result",
          "data": {
            "text/plain": [
              "5.0"
            ]
          },
          "metadata": {},
          "execution_count": 30
        }
      ]
    },
    {
      "cell_type": "code",
      "metadata": {
        "colab": {
          "base_uri": "https://localhost:8080/"
        },
        "id": "PXHoI4Xmejde",
        "outputId": "90aeafa6-a611-4f4f-aca1-140cd91e7525"
      },
      "source": [
        "wb @ m2"
      ],
      "execution_count": null,
      "outputs": [
        {
          "output_type": "execute_result",
          "data": {
            "text/plain": [
              "7.0"
            ]
          },
          "metadata": {},
          "execution_count": 31
        }
      ]
    },
    {
      "cell_type": "code",
      "metadata": {
        "id": "jewt_Lsre2jp",
        "colab": {
          "base_uri": "https://localhost:8080/"
        },
        "outputId": "4242f21c-99c9-4044-e1fd-bfb4c82527ac"
      },
      "source": [
        "# will project each point on the weight vector, then will calculate distance from this point to projected mean\n",
        "[((i @ wb) - (wb @ m1))**2 for i in c1]\n",
        "#this makes s1^2=0\n",
        "[((i @ wb) - (wb @ m2))**2 for i in c2]\n",
        "#this makes s2^2=0\n",
        "\n",
        "jw = ((wb @ m1) -(wb @ m2))**2 / 0 # ~~> if run, would give runtime error"
      ],
      "execution_count": null,
      "outputs": [
        {
          "output_type": "stream",
          "name": "stderr",
          "text": [
            "<ipython-input-32-4e5f82855357>:7: RuntimeWarning: divide by zero encountered in double_scalars\n",
            "  jw = ((wb @ m1) -(wb @ m2))**2 / 0 # ~~> if run, would give runtime error\n"
          ]
        }
      ]
    }
  ]
}