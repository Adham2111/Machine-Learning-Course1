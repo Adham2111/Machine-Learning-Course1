{
  "nbformat": 4,
  "nbformat_minor": 0,
  "metadata": {
    "colab": {
      "provenance": []
    },
    "kernelspec": {
      "name": "python3",
      "display_name": "Python 3"
    },
    "language_info": {
      "name": "python"
    }
  },
  "cells": [
    {
      "cell_type": "markdown",
      "source": [
        "Exercise (3)"
      ],
      "metadata": {
        "id": "EnhLYIKJE-E2"
      }
    },
    {
      "cell_type": "code",
      "source": [
        "import pandas as pd\n",
        "from sklearn.datasets import load_digits\n",
        "from sklearn.model_selection import train_test_split\n",
        "from sklearn.svm import SVC\n",
        "\n",
        "digits = load_digits()\n",
        "\n",
        "df = pd.DataFrame(digits.data,digits.target)\n",
        "df['target'] = digits.target\n",
        "\n",
        "X_train, X_test, y_train, y_test = train_test_split(df.drop('target',axis='columns'), df.target, test_size=0.3)\n",
        "\n",
        "linear_model = SVC(kernel='linear')\n",
        "\n",
        "linear_model.fit(X_train,y_train)\n",
        "\n",
        "linear_model.score(X_test,y_test)"
      ],
      "metadata": {
        "colab": {
          "base_uri": "https://localhost:8080/"
        },
        "id": "2HwhzP5EEmtJ",
        "outputId": "13f514ce-0300-4ef2-aef8-b2ecf0e29888"
      },
      "execution_count": 4,
      "outputs": [
        {
          "output_type": "execute_result",
          "data": {
            "text/plain": [
              "0.9814814814814815"
            ]
          },
          "metadata": {},
          "execution_count": 4
        }
      ]
    },
    {
      "cell_type": "markdown",
      "source": [
        "Exercise (4)"
      ],
      "metadata": {
        "id": "vkD13a-UEmhZ"
      }
    },
    {
      "cell_type": "code",
      "execution_count": 2,
      "metadata": {
        "colab": {
          "base_uri": "https://localhost:8080/"
        },
        "id": "BuIpdtgqD0Hd",
        "outputId": "f089d818-f26d-45c9-c827-c38ddfd9c2a4"
      },
      "outputs": [
        {
          "output_type": "execute_result",
          "data": {
            "text/plain": [
              "array([0])"
            ]
          },
          "metadata": {},
          "execution_count": 2
        }
      ],
      "source": [
        "from sklearn import svm\n",
        "\n",
        "X = [[-3,-1],\n",
        "     [0,-2],\n",
        "     [-2.5,2],\n",
        "     [-1,-1],\n",
        "     [3,0.5],\n",
        "     [0.5,3],\n",
        "     [-3,-3]] \n",
        "\n",
        "y = [0, 1, 0, 1, 1, 0, 1] \n",
        "\n",
        "clf = svm.SVC(kernel='linear').fit(X,y)\n",
        "\n",
        "clf.predict([[2,4]])"
      ]
    }
  ]
}